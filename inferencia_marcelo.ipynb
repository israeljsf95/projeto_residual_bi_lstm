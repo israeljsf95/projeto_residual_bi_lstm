{
 "cells": [
  {
   "cell_type": "code",
   "execution_count": 1,
   "metadata": {},
   "outputs": [
    {
     "name": "stdout",
     "output_type": "stream",
     "text": [
      "cuda\n"
     ]
    }
   ],
   "source": [
    "import torch\n",
    "import torchaudio\n",
    "import matplotlib.pyplot as plt\n",
    "import os, glob, re\n",
    "from models.stutterModel import StutterDetectionModel_FC, StutterDetectionModel_LSTM\n",
    "import pandas as pd\n",
    "from sklearn.metrics import confusion_matrix, classification_report\n",
    "import numpy as np\n",
    "from tqdm import tqdm\n",
    "\n",
    "\n",
    "device = 'cuda' if torch.cuda.is_available() else 'cpu'\n",
    "print(device)"
   ]
  },
  {
   "cell_type": "code",
   "execution_count": 2,
   "metadata": {},
   "outputs": [
    {
     "name": "stderr",
     "output_type": "stream",
     "text": [
      "/tmp/ipykernel_3971662/490371944.py:16: FutureWarning: You are using `torch.load` with `weights_only=False` (the current default value), which uses the default pickle module implicitly. It is possible to construct malicious pickle data which will execute arbitrary code during unpickling (See https://github.com/pytorch/pytorch/blob/main/SECURITY.md#untrusted-models for more details). In a future release, the default value for `weights_only` will be flipped to `True`. This limits the functions that could be executed during unpickling. Arbitrary objects will no longer be allowed to be loaded via this mode unless they are explicitly allowlisted by the user via `torch.serialization.add_safe_globals`. We recommend you start setting `weights_only=True` for any use case where you don't have full control of the loaded file. Please open an issue on GitHub for any issues related to this experimental feature.\n",
      "  checkpoint_1 = torch.load(checkpoint_path_fc)\n",
      "/tmp/ipykernel_3971662/490371944.py:17: FutureWarning: You are using `torch.load` with `weights_only=False` (the current default value), which uses the default pickle module implicitly. It is possible to construct malicious pickle data which will execute arbitrary code during unpickling (See https://github.com/pytorch/pytorch/blob/main/SECURITY.md#untrusted-models for more details). In a future release, the default value for `weights_only` will be flipped to `True`. This limits the functions that could be executed during unpickling. Arbitrary objects will no longer be allowed to be loaded via this mode unless they are explicitly allowlisted by the user via `torch.serialization.add_safe_globals`. We recommend you start setting `weights_only=True` for any use case where you don't have full control of the loaded file. Please open an issue on GitHub for any issues related to this experimental feature.\n",
      "  checkpoint_2 = torch.load(checkpoint_path_lstm)\n"
     ]
    },
    {
     "data": {
      "text/plain": [
       "StutterDetectionModel_LSTM(\n",
       "  (resnet): ResNet18(\n",
       "    (conv1): Conv2d(1, 64, kernel_size=(7, 7), stride=(2, 2), padding=(3, 3), bias=False)\n",
       "    (bn1): BatchNorm2d(64, eps=1e-05, momentum=0.1, affine=True, track_running_stats=True)\n",
       "    (layer1): Sequential(\n",
       "      (0): ResidualBlock(\n",
       "        (conv1): Conv2d(64, 64, kernel_size=(3, 3), stride=(1, 1), padding=(1, 1), bias=False)\n",
       "        (bn1): BatchNorm2d(64, eps=1e-05, momentum=0.1, affine=True, track_running_stats=True)\n",
       "        (conv2): Conv2d(64, 64, kernel_size=(3, 3), stride=(1, 1), padding=(1, 1), bias=False)\n",
       "        (bn2): BatchNorm2d(64, eps=1e-05, momentum=0.1, affine=True, track_running_stats=True)\n",
       "        (shortcut): Sequential()\n",
       "      )\n",
       "      (1): ResidualBlock(\n",
       "        (conv1): Conv2d(64, 64, kernel_size=(3, 3), stride=(1, 1), padding=(1, 1), bias=False)\n",
       "        (bn1): BatchNorm2d(64, eps=1e-05, momentum=0.1, affine=True, track_running_stats=True)\n",
       "        (conv2): Conv2d(64, 64, kernel_size=(3, 3), stride=(1, 1), padding=(1, 1), bias=False)\n",
       "        (bn2): BatchNorm2d(64, eps=1e-05, momentum=0.1, affine=True, track_running_stats=True)\n",
       "        (shortcut): Sequential()\n",
       "      )\n",
       "    )\n",
       "    (layer2): Sequential(\n",
       "      (0): ResidualBlock(\n",
       "        (conv1): Conv2d(64, 128, kernel_size=(3, 3), stride=(2, 2), padding=(1, 1), bias=False)\n",
       "        (bn1): BatchNorm2d(128, eps=1e-05, momentum=0.1, affine=True, track_running_stats=True)\n",
       "        (conv2): Conv2d(128, 128, kernel_size=(3, 3), stride=(1, 1), padding=(1, 1), bias=False)\n",
       "        (bn2): BatchNorm2d(128, eps=1e-05, momentum=0.1, affine=True, track_running_stats=True)\n",
       "        (shortcut): Sequential(\n",
       "          (0): Conv2d(64, 128, kernel_size=(1, 1), stride=(2, 2), bias=False)\n",
       "          (1): BatchNorm2d(128, eps=1e-05, momentum=0.1, affine=True, track_running_stats=True)\n",
       "        )\n",
       "      )\n",
       "      (1): ResidualBlock(\n",
       "        (conv1): Conv2d(128, 128, kernel_size=(3, 3), stride=(1, 1), padding=(1, 1), bias=False)\n",
       "        (bn1): BatchNorm2d(128, eps=1e-05, momentum=0.1, affine=True, track_running_stats=True)\n",
       "        (conv2): Conv2d(128, 128, kernel_size=(3, 3), stride=(1, 1), padding=(1, 1), bias=False)\n",
       "        (bn2): BatchNorm2d(128, eps=1e-05, momentum=0.1, affine=True, track_running_stats=True)\n",
       "        (shortcut): Sequential()\n",
       "      )\n",
       "    )\n",
       "    (layer3): Sequential(\n",
       "      (0): ResidualBlock(\n",
       "        (conv1): Conv2d(128, 256, kernel_size=(3, 3), stride=(2, 2), padding=(1, 1), bias=False)\n",
       "        (bn1): BatchNorm2d(256, eps=1e-05, momentum=0.1, affine=True, track_running_stats=True)\n",
       "        (conv2): Conv2d(256, 256, kernel_size=(3, 3), stride=(1, 1), padding=(1, 1), bias=False)\n",
       "        (bn2): BatchNorm2d(256, eps=1e-05, momentum=0.1, affine=True, track_running_stats=True)\n",
       "        (shortcut): Sequential(\n",
       "          (0): Conv2d(128, 256, kernel_size=(1, 1), stride=(2, 2), bias=False)\n",
       "          (1): BatchNorm2d(256, eps=1e-05, momentum=0.1, affine=True, track_running_stats=True)\n",
       "        )\n",
       "      )\n",
       "      (1): ResidualBlock(\n",
       "        (conv1): Conv2d(256, 256, kernel_size=(3, 3), stride=(1, 1), padding=(1, 1), bias=False)\n",
       "        (bn1): BatchNorm2d(256, eps=1e-05, momentum=0.1, affine=True, track_running_stats=True)\n",
       "        (conv2): Conv2d(256, 256, kernel_size=(3, 3), stride=(1, 1), padding=(1, 1), bias=False)\n",
       "        (bn2): BatchNorm2d(256, eps=1e-05, momentum=0.1, affine=True, track_running_stats=True)\n",
       "        (shortcut): Sequential()\n",
       "      )\n",
       "    )\n",
       "    (layer4): Sequential(\n",
       "      (0): ResidualBlock(\n",
       "        (conv1): Conv2d(256, 512, kernel_size=(3, 3), stride=(2, 2), padding=(1, 1), bias=False)\n",
       "        (bn1): BatchNorm2d(512, eps=1e-05, momentum=0.1, affine=True, track_running_stats=True)\n",
       "        (conv2): Conv2d(512, 512, kernel_size=(3, 3), stride=(1, 1), padding=(1, 1), bias=False)\n",
       "        (bn2): BatchNorm2d(512, eps=1e-05, momentum=0.1, affine=True, track_running_stats=True)\n",
       "        (shortcut): Sequential(\n",
       "          (0): Conv2d(256, 512, kernel_size=(1, 1), stride=(2, 2), bias=False)\n",
       "          (1): BatchNorm2d(512, eps=1e-05, momentum=0.1, affine=True, track_running_stats=True)\n",
       "        )\n",
       "      )\n",
       "      (1): ResidualBlock(\n",
       "        (conv1): Conv2d(512, 512, kernel_size=(3, 3), stride=(1, 1), padding=(1, 1), bias=False)\n",
       "        (bn1): BatchNorm2d(512, eps=1e-05, momentum=0.1, affine=True, track_running_stats=True)\n",
       "        (conv2): Conv2d(512, 512, kernel_size=(3, 3), stride=(1, 1), padding=(1, 1), bias=False)\n",
       "        (bn2): BatchNorm2d(512, eps=1e-05, momentum=0.1, affine=True, track_running_stats=True)\n",
       "        (shortcut): Sequential()\n",
       "      )\n",
       "    )\n",
       "    (avg_pool): AdaptiveAvgPool2d(output_size=(1, 1))\n",
       "    (fc): Linear(in_features=512, out_features=512, bias=True)\n",
       "  )\n",
       "  (bilstm_classifier): BiLSTMClassifier(\n",
       "    (lstm): LSTM(512, 512, num_layers=2, batch_first=True, dropout=0.2, bidirectional=True)\n",
       "    (fc): Linear(in_features=1024, out_features=1, bias=True)\n",
       "    (dropout): Dropout(p=0.2, inplace=False)\n",
       "  )\n",
       ")"
      ]
     },
     "execution_count": 2,
     "metadata": {},
     "output_type": "execute_result"
    }
   ],
   "source": [
    "model_fc_name = 'FC_Model'\n",
    "model_lstm_name = 'LSTM_Model'\n",
    "epoch = '12'  \n",
    "# Caminho para o checkpoint\n",
    "checkpoint_dir = 'checkpoints'\n",
    "checkpoint_path_fc = os.path.join(checkpoint_dir, f'{model_fc_name}_epoch_{epoch}.pth')\n",
    "checkpoint_path_lstm = os.path.join(checkpoint_dir, f'{model_lstm_name}_epoch_{epoch}.pth')\n",
    "\n",
    "# Inicialize o modelo\n",
    "\n",
    "num_disfluencies = 1  # Saída binária\n",
    "model_lstm = StutterDetectionModel_LSTM(num_disfluencies)\n",
    "model_fc = StutterDetectionModel_FC(num_disfluencies)\n",
    "\n",
    "# Carregue o checkpoint\n",
    "checkpoint_1 = torch.load(checkpoint_path_fc)\n",
    "checkpoint_2 = torch.load(checkpoint_path_lstm)\n",
    "model_fc.load_state_dict(checkpoint_1['model_state_dict'])\n",
    "model_lstm.load_state_dict(checkpoint_2['model_state_dict'])\n",
    "model_fc = model_fc.to(device)\n",
    "model_lstm = model_lstm.to(device)\n",
    "model_fc.eval() \n",
    "model_lstm.eval()"
   ]
  },
  {
   "cell_type": "code",
   "execution_count": 8,
   "metadata": {},
   "outputs": [
    {
     "data": {
      "text/plain": [
       "['/home/filhoij/Documents/CEIA/disfluency/projeto_residual_bi_lstm/data/marcelo_exemplos/disf_1_mar.mp3',\n",
       " '/home/filhoij/Documents/CEIA/disfluency/projeto_residual_bi_lstm/data/marcelo_exemplos/disf_2_mar.mp3',\n",
       " '/home/filhoij/Documents/CEIA/disfluency/projeto_residual_bi_lstm/data/marcelo_exemplos/disf_3_mar.mp3',\n",
       " '/home/filhoij/Documents/CEIA/disfluency/projeto_residual_bi_lstm/data/marcelo_exemplos/disf_4_mar.mp3',\n",
       " '/home/filhoij/Documents/CEIA/disfluency/projeto_residual_bi_lstm/data/marcelo_exemplos/non_disf_1_mar.mp3',\n",
       " '/home/filhoij/Documents/CEIA/disfluency/projeto_residual_bi_lstm/data/marcelo_exemplos/non_disf_2_mar.mp3',\n",
       " '/home/filhoij/Documents/CEIA/disfluency/projeto_residual_bi_lstm/data/marcelo_exemplos/Sanduiche-iche - (Ruth Lemos).mp3']"
      ]
     },
     "execution_count": 8,
     "metadata": {},
     "output_type": "execute_result"
    }
   ],
   "source": [
    "data_path = '/home/filhoij/Documents/CEIA/disfluency/projeto_residual_bi_lstm/data/marcelo_exemplos/'\n",
    "mp3_files = glob.glob(os.path.join(data_path, '*.mp3'))\n",
    "mp3_files"
   ]
  },
  {
   "cell_type": "code",
   "execution_count": 32,
   "metadata": {},
   "outputs": [
    {
     "name": "stdout",
     "output_type": "stream",
     "text": [
      "Predicao disf_1_mar.mp3 FC-MODEL: 1.0\n",
      "Predicao disf_1_mar.mp3 LSTM-MODEL: 1.0\n"
     ]
    },
    {
     "name": "stderr",
     "output_type": "stream",
     "text": [
      "/home/filhoij/.local/lib/python3.10/site-packages/torchaudio/functional/functional.py:584: UserWarning: At least one mel filterbank has all zero values. The value for `n_mels` (100) may be set too high. Or, the value for `n_freqs` (257) may be set too low.\n",
      "  warnings.warn(\n"
     ]
    }
   ],
   "source": [
    "waveform, sample_rate = torchaudio.load(mp3_files[0])\n",
    "waveform = waveform[:int(sample_rate*3.1)]\n",
    "mel_spectrogram_transform = torchaudio.transforms.MelSpectrogram(\n",
    "    sample_rate=sample_rate, \n",
    "    n_mels=100,\n",
    "    n_fft=512,\n",
    "    win_length=400,\n",
    "    hop_length=160,\n",
    ")\n",
    "\n",
    "mel_spectrogram = mel_spectrogram_transform(waveform)\n",
    "mel_spectrogram = torch.log(mel_spectrogram + 1e-13)\n",
    "mel_spectrogram = mel_spectrogram.unsqueeze(0).to(device)\n",
    "\n",
    "with torch.no_grad():\n",
    "    output_fc = model_fc(mel_spectrogram)\n",
    "    output_lstm = model_lstm(mel_spectrogram)\n",
    "    pred_fc = torch.sigmoid(output_fc).round().item()\n",
    "    pred_lstm = torch.sigmoid(output_lstm).round().item()\n",
    "\n",
    "print(f\"Predicao {mp3_files[0].split('/')[-1]} FC-MODEL: {pred_fc}\")\n",
    "print(f\"Predicao {mp3_files[0].split('/')[-1]} LSTM-MODEL: {pred_lstm}\")"
   ]
  },
  {
   "cell_type": "code",
   "execution_count": 33,
   "metadata": {},
   "outputs": [
    {
     "name": "stdout",
     "output_type": "stream",
     "text": [
      "Predicao disf_2_mar.mp3 FC-MODEL: 1.0\n",
      "Predicao disf_2_mar.mp3 LSTM-MODEL: 1.0\n"
     ]
    }
   ],
   "source": [
    "waveform, sample_rate = torchaudio.load(mp3_files[1])\n",
    "waveform = waveform[:int(sample_rate*3.1)]\n",
    "mel_spectrogram_transform = torchaudio.transforms.MelSpectrogram(\n",
    "    sample_rate=sample_rate, \n",
    "    n_mels=100,\n",
    "    n_fft=512,\n",
    "    win_length=400,\n",
    "    hop_length=160,\n",
    ")\n",
    "\n",
    "mel_spectrogram = mel_spectrogram_transform(waveform)\n",
    "mel_spectrogram = torch.log(mel_spectrogram + 1e-13)\n",
    "mel_spectrogram = mel_spectrogram.unsqueeze(0).to(device)\n",
    "\n",
    "with torch.no_grad():\n",
    "    output_fc = model_fc(mel_spectrogram)\n",
    "    output_lstm = model_lstm(mel_spectrogram)\n",
    "    pred_fc = torch.sigmoid(output_fc).round().item()\n",
    "    pred_lstm = torch.sigmoid(output_lstm).round().item()\n",
    "\n",
    "print(f\"Predicao {mp3_files[1].split('/')[-1]} FC-MODEL: {pred_fc}\")\n",
    "print(f\"Predicao {mp3_files[1].split('/')[-1]} LSTM-MODEL: {pred_lstm}\")"
   ]
  },
  {
   "cell_type": "code",
   "execution_count": 34,
   "metadata": {},
   "outputs": [
    {
     "name": "stdout",
     "output_type": "stream",
     "text": [
      "Predicao disf_3_mar.mp3 FC-MODEL: 1.0\n",
      "Predicao disf_3_mar.mp3 LSTM-MODEL: 1.0\n"
     ]
    }
   ],
   "source": [
    "waveform, sample_rate = torchaudio.load(mp3_files[2])\n",
    "waveform = waveform[:int(sample_rate*3.1)]\n",
    "mel_spectrogram_transform = torchaudio.transforms.MelSpectrogram(\n",
    "    sample_rate=sample_rate, \n",
    "    n_mels=100,\n",
    "    n_fft=512,\n",
    "    win_length=400,\n",
    "    hop_length=160,\n",
    ")\n",
    "\n",
    "mel_spectrogram = mel_spectrogram_transform(waveform)\n",
    "mel_spectrogram = torch.log(mel_spectrogram + 1e-13)\n",
    "mel_spectrogram = mel_spectrogram.unsqueeze(0).to(device)\n",
    "\n",
    "with torch.no_grad():\n",
    "    output_fc = model_fc(mel_spectrogram)\n",
    "    output_lstm = model_lstm(mel_spectrogram)\n",
    "    pred_fc = torch.sigmoid(output_fc).round().item()\n",
    "    pred_lstm = torch.sigmoid(output_lstm).round().item()\n",
    "\n",
    "\n",
    "print(f\"Predicao {mp3_files[2].split('/')[-1]} FC-MODEL: {pred_fc}\")\n",
    "print(f\"Predicao {mp3_files[2].split('/')[-1]} LSTM-MODEL: {pred_lstm}\")"
   ]
  },
  {
   "cell_type": "code",
   "execution_count": 35,
   "metadata": {},
   "outputs": [
    {
     "name": "stdout",
     "output_type": "stream",
     "text": [
      "Predicao disf_4_mar.mp3 FC-MODEL: 1.0\n",
      "Predicao disf_4_mar.mp3 LSTM-MODEL: 1.0\n"
     ]
    }
   ],
   "source": [
    "waveform, sample_rate = torchaudio.load(mp3_files[3])\n",
    "waveform = waveform[:int(sample_rate*3.1)]\n",
    "mel_spectrogram_transform = torchaudio.transforms.MelSpectrogram(\n",
    "    sample_rate=sample_rate, \n",
    "    n_mels=100,\n",
    "    n_fft=512,\n",
    "    win_length=400,\n",
    "    hop_length=160,\n",
    ")\n",
    "\n",
    "mel_spectrogram = mel_spectrogram_transform(waveform)\n",
    "mel_spectrogram = torch.log(mel_spectrogram + 1e-13)\n",
    "mel_spectrogram = mel_spectrogram.unsqueeze(0).to(device)\n",
    "\n",
    "with torch.no_grad():\n",
    "    output_fc = model_fc(mel_spectrogram)\n",
    "    output_lstm = model_lstm(mel_spectrogram)\n",
    "    pred_fc = torch.sigmoid(output_fc).round().item()\n",
    "    pred_lstm = torch.sigmoid(output_lstm).round().item()\n",
    "\n",
    "print(f\"Predicao {mp3_files[3].split('/')[-1]} FC-MODEL: {pred_fc}\")\n",
    "print(f\"Predicao {mp3_files[3].split('/')[-1]} LSTM-MODEL: {pred_lstm}\")"
   ]
  },
  {
   "cell_type": "code",
   "execution_count": 36,
   "metadata": {},
   "outputs": [
    {
     "name": "stdout",
     "output_type": "stream",
     "text": [
      "Predicao non_disf_1_mar.mp3 FC-MODEL: 1.0\n",
      "Predicao non_disf_1_mar.mp3 LSTM-MODEL: 1.0\n"
     ]
    }
   ],
   "source": [
    "waveform, sample_rate = torchaudio.load(mp3_files[4])\n",
    "waveform = waveform[:int(sample_rate*3.1)]\n",
    "mel_spectrogram_transform = torchaudio.transforms.MelSpectrogram(\n",
    "    sample_rate=sample_rate, \n",
    "    n_mels=100,\n",
    "    n_fft=512,\n",
    "    win_length=400,\n",
    "    hop_length=160,\n",
    ")\n",
    "\n",
    "mel_spectrogram = mel_spectrogram_transform(waveform)\n",
    "mel_spectrogram = torch.log(mel_spectrogram + 1e-13)\n",
    "mel_spectrogram = mel_spectrogram.unsqueeze(0).to(device)\n",
    "\n",
    "with torch.no_grad():\n",
    "    output_fc = model_fc(mel_spectrogram)\n",
    "    output_lstm = model_lstm(mel_spectrogram)\n",
    "    pred_fc = torch.sigmoid(output_fc).round().item()\n",
    "    pred_lstm = torch.sigmoid(output_lstm).round().item()\n",
    "\n",
    "print(f\"Predicao {mp3_files[4].split('/')[-1]} FC-MODEL: {pred_fc}\")\n",
    "print(f\"Predicao {mp3_files[4].split('/')[-1]} LSTM-MODEL: {pred_lstm}\")"
   ]
  },
  {
   "cell_type": "code",
   "execution_count": 37,
   "metadata": {},
   "outputs": [
    {
     "data": {
      "text/plain": [
       "(torch.Size([1, 251136]), 48000)"
      ]
     },
     "execution_count": 37,
     "metadata": {},
     "output_type": "execute_result"
    }
   ],
   "source": [
    "waveform.shape, sample_rate"
   ]
  },
  {
   "cell_type": "code",
   "execution_count": 27,
   "metadata": {},
   "outputs": [
    {
     "name": "stdout",
     "output_type": "stream",
     "text": [
      "Predicao non_disf_2_mar.mp3 FC-MODEL: 1.0\n",
      "Predicao non_disf_2_mar.mp3 LSTM-MODEL: 1.0\n"
     ]
    }
   ],
   "source": [
    "waveform, sample_rate = torchaudio.load(mp3_files[5])\n",
    "waveform = waveform[:int(sample_rate*3.1)]\n",
    "mel_spectrogram_transform = torchaudio.transforms.MelSpectrogram(\n",
    "    sample_rate=sample_rate, \n",
    "    n_mels=100,\n",
    "    n_fft=512,\n",
    "    win_length=400,\n",
    "    hop_length=160,\n",
    ")\n",
    "\n",
    "mel_spectrogram = mel_spectrogram_transform(waveform)\n",
    "mel_spectrogram = torch.log(mel_spectrogram + 1e-13)\n",
    "mel_spectrogram = mel_spectrogram.unsqueeze(0).to(device)\n",
    "\n",
    "with torch.no_grad():\n",
    "    output_fc = model_fc(mel_spectrogram)\n",
    "    output_lstm = model_lstm(mel_spectrogram)\n",
    "    pred_fc = torch.sigmoid(output_fc).round().item()\n",
    "    pred_lstm = torch.sigmoid(output_lstm).round().item()\n",
    "\n",
    "print(f\"Predicao {mp3_files[5].split('/')[-1]} FC-MODEL: {pred_fc}\")\n",
    "print(f\"Predicao {mp3_files[5].split('/')[-1]} LSTM-MODEL: {pred_lstm}\")"
   ]
  },
  {
   "cell_type": "code",
   "execution_count": 40,
   "metadata": {},
   "outputs": [
    {
     "name": "stdout",
     "output_type": "stream",
     "text": [
      "Predicao Sanduiche-iche - (Ruth Lemos).mp3 FC-MODEL: 1.0\n",
      "Predicao Sanduiche-iche - (Ruth Lemos).mp3 LSTM-MODEL: 1.0\n"
     ]
    }
   ],
   "source": [
    "output_fc, sample_rate = torchaudio.load(mp3_files[6])\n",
    "waveform = waveform[:int(sample_rate*3.1)]\n",
    "mel_spectrogram_transform = torchaudio.transforms.MelSpectrogram(\n",
    "    sample_rate=sample_rate, \n",
    "    n_mels=100,\n",
    "    n_fft=512,\n",
    "    win_length=400,\n",
    "    hop_length=160,\n",
    ")\n",
    "\n",
    "mel_spectrogram = mel_spectrogram_transform(waveform)\n",
    "mel_spectrogram = torch.log(mel_spectrogram + 1e-13)\n",
    "mel_spectrogram = mel_spectrogram.unsqueeze(0).to(device)\n",
    "\n",
    "with torch.no_grad():\n",
    "    output_fc = model_fc(mel_spectrogram)\n",
    "    output_lstm = model_lstm(mel_spectrogram)\n",
    "    pred_fc = torch.sigmoid(output_fc).round().item()\n",
    "    pred_lstm = torch.sigmoid(output_lstm).round().item()\n",
    "\n",
    "print(f\"Predicao {mp3_files[6].split('/')[-1]} FC-MODEL: {pred_fc}\")\n",
    "print(f\"Predicao {mp3_files[6].split('/')[-1]} LSTM-MODEL: {pred_lstm}\")"
   ]
  },
  {
   "cell_type": "code",
   "execution_count": null,
   "metadata": {},
   "outputs": [],
   "source": []
  }
 ],
 "metadata": {
  "kernelspec": {
   "display_name": "ceia_disf",
   "language": "python",
   "name": "python3"
  },
  "language_info": {
   "codemirror_mode": {
    "name": "ipython",
    "version": 3
   },
   "file_extension": ".py",
   "mimetype": "text/x-python",
   "name": "python",
   "nbconvert_exporter": "python",
   "pygments_lexer": "ipython3",
   "version": "3.10.14"
  }
 },
 "nbformat": 4,
 "nbformat_minor": 2
}
